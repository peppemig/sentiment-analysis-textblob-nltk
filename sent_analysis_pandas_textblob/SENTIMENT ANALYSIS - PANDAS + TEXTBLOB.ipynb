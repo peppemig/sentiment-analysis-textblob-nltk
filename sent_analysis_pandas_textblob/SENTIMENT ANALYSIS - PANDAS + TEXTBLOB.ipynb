{
 "cells": [
  {
   "cell_type": "markdown",
   "id": "ddd9da97",
   "metadata": {},
   "source": [
    "## SENTIMENT ANALYSIS - PANDAS + TEXTBLOB"
   ]
  },
  {
   "cell_type": "code",
   "execution_count": 3,
   "id": "eddfb61e",
   "metadata": {},
   "outputs": [],
   "source": [
    "## IMPORTS\n",
    "from google_play_scraper import app\n",
    "from google_play_scraper import Sort, reviews\n",
    "import pandas as pd\n",
    "import numpy as np\n",
    "from textblob import TextBlob"
   ]
  },
  {
   "cell_type": "code",
   "execution_count": 6,
   "id": "b4ad5efc",
   "metadata": {},
   "outputs": [],
   "source": [
    "## SCRAPE REVIEWS\n",
    "result, continuation_token = reviews(\n",
    "    'posteitaliane.posteapp.apppostepay',\n",
    "    lang='en',\n",
    "    country='it',\n",
    "    sort=Sort.NEWEST,\n",
    "    count=1000)"
   ]
  },
  {
   "cell_type": "code",
   "execution_count": 29,
   "id": "8160f27a",
   "metadata": {},
   "outputs": [],
   "source": [
    "## AGGIUNGO RISULTATO SCRAPING REVIEWS A DF\n",
    "df = pd.DataFrame(np.array(result),columns=['review'])\n",
    "df = df.join(pd.DataFrame(df.pop('review').tolist()))"
   ]
  },
  {
   "cell_type": "code",
   "execution_count": 32,
   "id": "1ecdf474",
   "metadata": {},
   "outputs": [
    {
     "data": {
      "text/html": [
       "<div>\n",
       "<style scoped>\n",
       "    .dataframe tbody tr th:only-of-type {\n",
       "        vertical-align: middle;\n",
       "    }\n",
       "\n",
       "    .dataframe tbody tr th {\n",
       "        vertical-align: top;\n",
       "    }\n",
       "\n",
       "    .dataframe thead th {\n",
       "        text-align: right;\n",
       "    }\n",
       "</style>\n",
       "<table border=\"1\" class=\"dataframe\">\n",
       "  <thead>\n",
       "    <tr style=\"text-align: right;\">\n",
       "      <th></th>\n",
       "      <th>content</th>\n",
       "      <th>score</th>\n",
       "    </tr>\n",
       "  </thead>\n",
       "  <tbody>\n",
       "    <tr>\n",
       "      <th>0</th>\n",
       "      <td>It's a very good app. Instant. I like it. Only...</td>\n",
       "      <td>4</td>\n",
       "    </tr>\n",
       "    <tr>\n",
       "      <th>1</th>\n",
       "      <td>Poor service, my money was stock in this bank ...</td>\n",
       "      <td>1</td>\n",
       "    </tr>\n",
       "    <tr>\n",
       "      <th>2</th>\n",
       "      <td>Coustmar care services is very bad 👎 they answ...</td>\n",
       "      <td>1</td>\n",
       "    </tr>\n",
       "    <tr>\n",
       "      <th>3</th>\n",
       "      <td>As much as I liked this card,I can say it's th...</td>\n",
       "      <td>2</td>\n",
       "    </tr>\n",
       "    <tr>\n",
       "      <th>4</th>\n",
       "      <td>I'm having problem with login.... Since 15 Nov...</td>\n",
       "      <td>1</td>\n",
       "    </tr>\n",
       "  </tbody>\n",
       "</table>\n",
       "</div>"
      ],
      "text/plain": [
       "                                             content  score\n",
       "0  It's a very good app. Instant. I like it. Only...      4\n",
       "1  Poor service, my money was stock in this bank ...      1\n",
       "2  Coustmar care services is very bad 👎 they answ...      1\n",
       "3  As much as I liked this card,I can say it's th...      2\n",
       "4  I'm having problem with login.... Since 15 Nov...      1"
      ]
     },
     "execution_count": 32,
     "metadata": {},
     "output_type": "execute_result"
    }
   ],
   "source": [
    "## PER IL NOSTRO USE CASE SELEZIONO SOLO COLONNE 'content' e 'score'\n",
    "df = df[['content','score']]\n",
    "df.head()"
   ]
  },
  {
   "cell_type": "code",
   "execution_count": 6,
   "id": "84ed9455",
   "metadata": {},
   "outputs": [
    {
     "name": "stdout",
     "output_type": "stream",
     "text": [
      "Sentiment(polarity=0.5, subjectivity=0.6)\n",
      "Sentiment(polarity=-0.6999999999999998, subjectivity=0.6666666666666666)\n",
      "Sentiment(polarity=0.0, subjectivity=0.0)\n"
     ]
    }
   ],
   "source": [
    "## TEXTBLOB SAMPLE\n",
    "test = 'I love this application'\n",
    "test2 = 'This application is so bad'\n",
    "test3 = 'I can use this application'\n",
    "print(TextBlob(str(test)).sentiment)\n",
    "print(TextBlob(str(test2)).sentiment)\n",
    "print(TextBlob(str(test3)).sentiment)"
   ]
  },
  {
   "cell_type": "code",
   "execution_count": 37,
   "id": "6fcbc49f",
   "metadata": {},
   "outputs": [
    {
     "data": {
      "text/html": [
       "<div>\n",
       "<style scoped>\n",
       "    .dataframe tbody tr th:only-of-type {\n",
       "        vertical-align: middle;\n",
       "    }\n",
       "\n",
       "    .dataframe tbody tr th {\n",
       "        vertical-align: top;\n",
       "    }\n",
       "\n",
       "    .dataframe thead th {\n",
       "        text-align: right;\n",
       "    }\n",
       "</style>\n",
       "<table border=\"1\" class=\"dataframe\">\n",
       "  <thead>\n",
       "    <tr style=\"text-align: right;\">\n",
       "      <th></th>\n",
       "      <th>content</th>\n",
       "      <th>score</th>\n",
       "      <th>polarity</th>\n",
       "    </tr>\n",
       "  </thead>\n",
       "  <tbody>\n",
       "    <tr>\n",
       "      <th>0</th>\n",
       "      <td>It's a very good app. Instant. I like it. Only...</td>\n",
       "      <td>4</td>\n",
       "      <td>0.177692</td>\n",
       "    </tr>\n",
       "    <tr>\n",
       "      <th>1</th>\n",
       "      <td>Poor service, my money was stock in this bank ...</td>\n",
       "      <td>1</td>\n",
       "      <td>-0.200000</td>\n",
       "    </tr>\n",
       "    <tr>\n",
       "      <th>2</th>\n",
       "      <td>Coustmar care services is very bad 👎 they answ...</td>\n",
       "      <td>1</td>\n",
       "      <td>-0.658727</td>\n",
       "    </tr>\n",
       "    <tr>\n",
       "      <th>3</th>\n",
       "      <td>As much as I liked this card,I can say it's th...</td>\n",
       "      <td>2</td>\n",
       "      <td>0.150000</td>\n",
       "    </tr>\n",
       "    <tr>\n",
       "      <th>4</th>\n",
       "      <td>I'm having problem with login.... Since 15 Nov...</td>\n",
       "      <td>1</td>\n",
       "      <td>-0.875000</td>\n",
       "    </tr>\n",
       "  </tbody>\n",
       "</table>\n",
       "</div>"
      ],
      "text/plain": [
       "                                             content  score  polarity\n",
       "0  It's a very good app. Instant. I like it. Only...      4  0.177692\n",
       "1  Poor service, my money was stock in this bank ...      1 -0.200000\n",
       "2  Coustmar care services is very bad 👎 they answ...      1 -0.658727\n",
       "3  As much as I liked this card,I can say it's th...      2  0.150000\n",
       "4  I'm having problem with login.... Since 15 Nov...      1 -0.875000"
      ]
     },
     "execution_count": 37,
     "metadata": {},
     "output_type": "execute_result"
    }
   ],
   "source": [
    "## TEXTBLOB SENTIMENT ANALYSIS\n",
    "polarities = []\n",
    "\n",
    "for review in df['content']:\n",
    "    polarity = TextBlob(str(review)).sentiment.polarity\n",
    "    polarities.append(polarity)\n",
    "    \n",
    "df['polarity'] = polarities\n",
    "\n",
    "df.head()"
   ]
  },
  {
   "cell_type": "code",
   "execution_count": 39,
   "id": "78b60987",
   "metadata": {},
   "outputs": [
    {
     "data": {
      "text/html": [
       "<div>\n",
       "<style scoped>\n",
       "    .dataframe tbody tr th:only-of-type {\n",
       "        vertical-align: middle;\n",
       "    }\n",
       "\n",
       "    .dataframe tbody tr th {\n",
       "        vertical-align: top;\n",
       "    }\n",
       "\n",
       "    .dataframe thead th {\n",
       "        text-align: right;\n",
       "    }\n",
       "</style>\n",
       "<table border=\"1\" class=\"dataframe\">\n",
       "  <thead>\n",
       "    <tr style=\"text-align: right;\">\n",
       "      <th></th>\n",
       "      <th>content</th>\n",
       "      <th>score</th>\n",
       "      <th>polarity</th>\n",
       "      <th>sentiment</th>\n",
       "    </tr>\n",
       "  </thead>\n",
       "  <tbody>\n",
       "    <tr>\n",
       "      <th>0</th>\n",
       "      <td>It's a very good app. Instant. I like it. Only...</td>\n",
       "      <td>4</td>\n",
       "      <td>0.177692</td>\n",
       "      <td>positive</td>\n",
       "    </tr>\n",
       "    <tr>\n",
       "      <th>1</th>\n",
       "      <td>Poor service, my money was stock in this bank ...</td>\n",
       "      <td>1</td>\n",
       "      <td>-0.200000</td>\n",
       "      <td>negative</td>\n",
       "    </tr>\n",
       "    <tr>\n",
       "      <th>2</th>\n",
       "      <td>Coustmar care services is very bad 👎 they answ...</td>\n",
       "      <td>1</td>\n",
       "      <td>-0.658727</td>\n",
       "      <td>negative</td>\n",
       "    </tr>\n",
       "    <tr>\n",
       "      <th>3</th>\n",
       "      <td>As much as I liked this card,I can say it's th...</td>\n",
       "      <td>2</td>\n",
       "      <td>0.150000</td>\n",
       "      <td>positive</td>\n",
       "    </tr>\n",
       "    <tr>\n",
       "      <th>4</th>\n",
       "      <td>I'm having problem with login.... Since 15 Nov...</td>\n",
       "      <td>1</td>\n",
       "      <td>-0.875000</td>\n",
       "      <td>negative</td>\n",
       "    </tr>\n",
       "  </tbody>\n",
       "</table>\n",
       "</div>"
      ],
      "text/plain": [
       "                                             content  score  polarity  \\\n",
       "0  It's a very good app. Instant. I like it. Only...      4  0.177692   \n",
       "1  Poor service, my money was stock in this bank ...      1 -0.200000   \n",
       "2  Coustmar care services is very bad 👎 they answ...      1 -0.658727   \n",
       "3  As much as I liked this card,I can say it's th...      2  0.150000   \n",
       "4  I'm having problem with login.... Since 15 Nov...      1 -0.875000   \n",
       "\n",
       "  sentiment  \n",
       "0  positive  \n",
       "1  negative  \n",
       "2  negative  \n",
       "3  positive  \n",
       "4  negative  "
      ]
     },
     "execution_count": 39,
     "metadata": {},
     "output_type": "execute_result"
    }
   ],
   "source": [
    "## AGGIUNGO COLONNA SENTIMENT CON VALORE CHE VARIA IN BASE A 'polarity'\n",
    "df['sentiment'] = df['polarity'].apply(lambda x: 'positive' if x > 0 else 'negative' if x < 0 else 'neutral')\n",
    "df.head()"
   ]
  },
  {
   "cell_type": "code",
   "execution_count": 64,
   "id": "a9667f0f",
   "metadata": {},
   "outputs": [
    {
     "name": "stdout",
     "output_type": "stream",
     "text": [
      "Recensioni totali: 1000\n",
      "Ci sono 630 recensioni con 5 stelle\n",
      "Ci sono 115 recensioni con 4 stelle\n",
      "Ci sono 53 recensioni con 3 stelle\n",
      "Ci sono 40 recensioni con 2 stelle\n",
      "Ci sono 162 recensioni con 1 stella\n"
     ]
    },
    {
     "data": {
      "text/html": [
       "<div>\n",
       "<style scoped>\n",
       "    .dataframe tbody tr th:only-of-type {\n",
       "        vertical-align: middle;\n",
       "    }\n",
       "\n",
       "    .dataframe tbody tr th {\n",
       "        vertical-align: top;\n",
       "    }\n",
       "\n",
       "    .dataframe thead th {\n",
       "        text-align: right;\n",
       "    }\n",
       "</style>\n",
       "<table border=\"1\" class=\"dataframe\">\n",
       "  <thead>\n",
       "    <tr style=\"text-align: right;\">\n",
       "      <th></th>\n",
       "      <th>content</th>\n",
       "      <th>polarity</th>\n",
       "      <th>sentiment</th>\n",
       "    </tr>\n",
       "    <tr>\n",
       "      <th>score</th>\n",
       "      <th></th>\n",
       "      <th></th>\n",
       "      <th></th>\n",
       "    </tr>\n",
       "  </thead>\n",
       "  <tbody>\n",
       "    <tr>\n",
       "      <th>1</th>\n",
       "      <td>162</td>\n",
       "      <td>162</td>\n",
       "      <td>162</td>\n",
       "    </tr>\n",
       "    <tr>\n",
       "      <th>2</th>\n",
       "      <td>40</td>\n",
       "      <td>40</td>\n",
       "      <td>40</td>\n",
       "    </tr>\n",
       "    <tr>\n",
       "      <th>3</th>\n",
       "      <td>53</td>\n",
       "      <td>53</td>\n",
       "      <td>53</td>\n",
       "    </tr>\n",
       "    <tr>\n",
       "      <th>4</th>\n",
       "      <td>115</td>\n",
       "      <td>115</td>\n",
       "      <td>115</td>\n",
       "    </tr>\n",
       "    <tr>\n",
       "      <th>5</th>\n",
       "      <td>630</td>\n",
       "      <td>630</td>\n",
       "      <td>630</td>\n",
       "    </tr>\n",
       "  </tbody>\n",
       "</table>\n",
       "</div>"
      ],
      "text/plain": [
       "       content  polarity  sentiment\n",
       "score                              \n",
       "1          162       162        162\n",
       "2           40        40         40\n",
       "3           53        53         53\n",
       "4          115       115        115\n",
       "5          630       630        630"
      ]
     },
     "execution_count": 64,
     "metadata": {},
     "output_type": "execute_result"
    }
   ],
   "source": [
    "## CONTO REVIEWS IN BASE A SCORE (STELLE)\n",
    "fivestars = len(df.loc[df['score'] == 5])\n",
    "fourstars = len(df.loc[df['score'] == 4])\n",
    "threestars = len(df.loc[df['score'] == 3])\n",
    "twostars = len(df.loc[df['score'] == 2])\n",
    "onestar = len(df.loc[df['score'] == 1])\n",
    "print(\"Recensioni totali: \"+str(fivestars+fourstars+threestars+twostars+onestar))\n",
    "print(\"Ci sono \"+str(fivestars)+\" recensioni con 5 stelle\")\n",
    "print(\"Ci sono \"+str(fourstars)+\" recensioni con 4 stelle\")\n",
    "print(\"Ci sono \"+str(threestars)+\" recensioni con 3 stelle\")\n",
    "print(\"Ci sono \"+str(twostars)+\" recensioni con 2 stelle\")\n",
    "print(\"Ci sono \"+str(onestar)+\" recensioni con 1 stella\")\n",
    "## CON COUNT PANDAS\n",
    "df.groupby(df['score']).count()"
   ]
  },
  {
   "cell_type": "code",
   "execution_count": 63,
   "id": "fd01e457",
   "metadata": {},
   "outputs": [
    {
     "name": "stdout",
     "output_type": "stream",
     "text": [
      "Recensioni totali: 1000\n",
      "Ci sono 759 recensioni con sentiment positivo - Percentuale: 0.759%\n",
      "Ci sono 110 recensioni con sentiment negativo - Percentuale: 0.11%\n",
      "Ci sono 131 recensioni con sentiment neutrale - Percentuale: 0.131%\n"
     ]
    },
    {
     "data": {
      "text/html": [
       "<div>\n",
       "<style scoped>\n",
       "    .dataframe tbody tr th:only-of-type {\n",
       "        vertical-align: middle;\n",
       "    }\n",
       "\n",
       "    .dataframe tbody tr th {\n",
       "        vertical-align: top;\n",
       "    }\n",
       "\n",
       "    .dataframe thead th {\n",
       "        text-align: right;\n",
       "    }\n",
       "</style>\n",
       "<table border=\"1\" class=\"dataframe\">\n",
       "  <thead>\n",
       "    <tr style=\"text-align: right;\">\n",
       "      <th></th>\n",
       "      <th>content</th>\n",
       "      <th>score</th>\n",
       "      <th>polarity</th>\n",
       "    </tr>\n",
       "    <tr>\n",
       "      <th>sentiment</th>\n",
       "      <th></th>\n",
       "      <th></th>\n",
       "      <th></th>\n",
       "    </tr>\n",
       "  </thead>\n",
       "  <tbody>\n",
       "    <tr>\n",
       "      <th>negative</th>\n",
       "      <td>110</td>\n",
       "      <td>110</td>\n",
       "      <td>110</td>\n",
       "    </tr>\n",
       "    <tr>\n",
       "      <th>neutral</th>\n",
       "      <td>131</td>\n",
       "      <td>131</td>\n",
       "      <td>131</td>\n",
       "    </tr>\n",
       "    <tr>\n",
       "      <th>positive</th>\n",
       "      <td>759</td>\n",
       "      <td>759</td>\n",
       "      <td>759</td>\n",
       "    </tr>\n",
       "  </tbody>\n",
       "</table>\n",
       "</div>"
      ],
      "text/plain": [
       "           content  score  polarity\n",
       "sentiment                          \n",
       "negative       110    110       110\n",
       "neutral        131    131       131\n",
       "positive       759    759       759"
      ]
     },
     "execution_count": 63,
     "metadata": {},
     "output_type": "execute_result"
    }
   ],
   "source": [
    "## CONTO REVIEWS IN BASE A SENTIMENT\n",
    "numpositive = len(df.loc[df['sentiment'] == 'positive'])\n",
    "numnegative = len(df.loc[df['sentiment'] == 'negative'])\n",
    "numneutral = len(df.loc[df['sentiment'] == 'neutral'])\n",
    "total = numpositive + numnegative + numneutral\n",
    "print(\"Recensioni totali: \"+str(total))\n",
    "print(\"Ci sono \"+str(numpositive)+\" recensioni con sentiment positivo - Percentuale: \"+str(numpositive/total)+\"%\")\n",
    "print(\"Ci sono \"+str(numnegative)+\" recensioni con sentiment negativo - Percentuale: \"+str(numnegative/total)+\"%\")\n",
    "print(\"Ci sono \"+str(numneutral)+\" recensioni con sentiment neutrale - Percentuale: \"+str(numneutral/total)+\"%\")\n",
    "## CON COUNT PANDAS\n",
    "df.groupby(df['sentiment']).count()"
   ]
  },
  {
   "cell_type": "code",
   "execution_count": 65,
   "id": "ac72d7fc",
   "metadata": {},
   "outputs": [],
   "source": [
    "## SALVO FILE EXCEL (SENZA COLONNA INDEX)\n",
    "df.to_excel('result.xlsx',index=False)"
   ]
  }
 ],
 "metadata": {
  "kernelspec": {
   "display_name": "Python 3 (ipykernel)",
   "language": "python",
   "name": "python3"
  },
  "language_info": {
   "codemirror_mode": {
    "name": "ipython",
    "version": 3
   },
   "file_extension": ".py",
   "mimetype": "text/x-python",
   "name": "python",
   "nbconvert_exporter": "python",
   "pygments_lexer": "ipython3",
   "version": "3.11.1"
  }
 },
 "nbformat": 4,
 "nbformat_minor": 5
}
