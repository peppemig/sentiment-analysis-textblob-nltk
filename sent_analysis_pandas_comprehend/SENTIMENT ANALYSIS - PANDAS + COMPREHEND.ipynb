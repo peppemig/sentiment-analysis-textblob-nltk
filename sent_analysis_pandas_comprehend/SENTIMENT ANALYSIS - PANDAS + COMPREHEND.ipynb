{
 "cells": [
  {
   "cell_type": "markdown",
   "id": "88fde275",
   "metadata": {},
   "source": [
    "## SENTIMENT ANALYSIS - PANDAS + COMPREHEND"
   ]
  },
  {
   "cell_type": "code",
   "execution_count": 1,
   "id": "09341591",
   "metadata": {},
   "outputs": [],
   "source": [
    "## IMPORTS\n",
    "from google_play_scraper import app\n",
    "from google_play_scraper import Sort, reviews\n",
    "import pandas as pd\n",
    "import numpy as np\n",
    "import boto3"
   ]
  },
  {
   "cell_type": "code",
   "execution_count": 12,
   "id": "d5a74db0",
   "metadata": {},
   "outputs": [],
   "source": [
    "## SCRAPE REVIEWS\n",
    "result, continuation_token = reviews(\n",
    "    'posteitaliane.posteapp.apppostepay',\n",
    "    lang='it',\n",
    "    country='it',\n",
    "    sort=Sort.NEWEST,\n",
    "    count=3)"
   ]
  },
  {
   "cell_type": "code",
   "execution_count": 13,
   "id": "c5872467",
   "metadata": {},
   "outputs": [],
   "source": [
    "## AGGIUNGO RISULTATO SCRAPING REVIEWS A DF\n",
    "df = pd.DataFrame(np.array(result),columns=['review'])\n",
    "df = df.join(pd.DataFrame(df.pop('review').tolist()))"
   ]
  },
  {
   "cell_type": "code",
   "execution_count": 14,
   "id": "ef230e06",
   "metadata": {},
   "outputs": [
    {
     "data": {
      "text/html": [
       "<div>\n",
       "<style scoped>\n",
       "    .dataframe tbody tr th:only-of-type {\n",
       "        vertical-align: middle;\n",
       "    }\n",
       "\n",
       "    .dataframe tbody tr th {\n",
       "        vertical-align: top;\n",
       "    }\n",
       "\n",
       "    .dataframe thead th {\n",
       "        text-align: right;\n",
       "    }\n",
       "</style>\n",
       "<table border=\"1\" class=\"dataframe\">\n",
       "  <thead>\n",
       "    <tr style=\"text-align: right;\">\n",
       "      <th></th>\n",
       "      <th>content</th>\n",
       "      <th>score</th>\n",
       "    </tr>\n",
       "  </thead>\n",
       "  <tbody>\n",
       "    <tr>\n",
       "      <th>0</th>\n",
       "      <td>Si inventa fantomatici problemi tecnici divers...</td>\n",
       "      <td>1</td>\n",
       "    </tr>\n",
       "    <tr>\n",
       "      <th>1</th>\n",
       "      <td>L'app di per sé è molto buona, comoda e utile ...</td>\n",
       "      <td>3</td>\n",
       "    </tr>\n",
       "    <tr>\n",
       "      <th>2</th>\n",
       "      <td>App molto poco intuitiva per un utente che non...</td>\n",
       "      <td>1</td>\n",
       "    </tr>\n",
       "  </tbody>\n",
       "</table>\n",
       "</div>"
      ],
      "text/plain": [
       "                                             content  score\n",
       "0  Si inventa fantomatici problemi tecnici divers...      1\n",
       "1  L'app di per sé è molto buona, comoda e utile ...      3\n",
       "2  App molto poco intuitiva per un utente che non...      1"
      ]
     },
     "execution_count": 14,
     "metadata": {},
     "output_type": "execute_result"
    }
   ],
   "source": [
    "## PER IL NOSTRO USE CASE SELEZIONO SOLO COLONNE 'content' e 'score'\n",
    "df = df[['content','score']]\n",
    "df.head()"
   ]
  },
  {
   "cell_type": "code",
   "execution_count": 15,
   "id": "3579b117",
   "metadata": {},
   "outputs": [
    {
     "data": {
      "text/html": [
       "<div>\n",
       "<style scoped>\n",
       "    .dataframe tbody tr th:only-of-type {\n",
       "        vertical-align: middle;\n",
       "    }\n",
       "\n",
       "    .dataframe tbody tr th {\n",
       "        vertical-align: top;\n",
       "    }\n",
       "\n",
       "    .dataframe thead th {\n",
       "        text-align: right;\n",
       "    }\n",
       "</style>\n",
       "<table border=\"1\" class=\"dataframe\">\n",
       "  <thead>\n",
       "    <tr style=\"text-align: right;\">\n",
       "      <th></th>\n",
       "      <th>content</th>\n",
       "      <th>score</th>\n",
       "      <th>sentiment</th>\n",
       "    </tr>\n",
       "  </thead>\n",
       "  <tbody>\n",
       "    <tr>\n",
       "      <th>0</th>\n",
       "      <td>Si inventa fantomatici problemi tecnici divers...</td>\n",
       "      <td>1</td>\n",
       "      <td>NEGATIVE</td>\n",
       "    </tr>\n",
       "    <tr>\n",
       "      <th>1</th>\n",
       "      <td>L'app di per sé è molto buona, comoda e utile ...</td>\n",
       "      <td>3</td>\n",
       "      <td>MIXED</td>\n",
       "    </tr>\n",
       "    <tr>\n",
       "      <th>2</th>\n",
       "      <td>App molto poco intuitiva per un utente che non...</td>\n",
       "      <td>1</td>\n",
       "      <td>NEGATIVE</td>\n",
       "    </tr>\n",
       "  </tbody>\n",
       "</table>\n",
       "</div>"
      ],
      "text/plain": [
       "                                             content  score sentiment\n",
       "0  Si inventa fantomatici problemi tecnici divers...      1  NEGATIVE\n",
       "1  L'app di per sé è molto buona, comoda e utile ...      3     MIXED\n",
       "2  App molto poco intuitiva per un utente che non...      1  NEGATIVE"
      ]
     },
     "execution_count": 15,
     "metadata": {},
     "output_type": "execute_result"
    }
   ],
   "source": [
    "## COMPREHEND SENTIMENT ANALYSIS\n",
    "client = boto3.client('comprehend')\n",
    "\n",
    "def sentiment_analysis(test):\n",
    "    response = client.detect_sentiment(\n",
    "        Text=test,\n",
    "        LanguageCode='it'\n",
    "    )\n",
    "    return response\n",
    "    \n",
    "sentiments = []\n",
    "\n",
    "for review in df['content']:\n",
    "    sent = sentiment_analysis(review)\n",
    "    sentiments.append(sent['Sentiment'])\n",
    "    \n",
    "df['sentiment'] = sentiments\n",
    "\n",
    "df.head()"
   ]
  },
  {
   "cell_type": "code",
   "execution_count": 22,
   "id": "869e4ce6",
   "metadata": {},
   "outputs": [
    {
     "name": "stdout",
     "output_type": "stream",
     "text": [
      "Recensioni totali: 3\n",
      "Ci sono 0 recensioni con sentiment positivo - Percentuale: 0.0%\n",
      "Ci sono 2 recensioni con sentiment negativo - Percentuale: 0.6666666666666666%\n",
      "Ci sono 1 recensioni con sentiment neutrale - Percentuale: 0.3333333333333333%\n"
     ]
    }
   ],
   "source": [
    "## CONTO REVIEWS IN BASE A SENTIMENT\n",
    "numpositive = len(df.loc[df['sentiment'] == 'POSITIVE'])\n",
    "numnegative = len(df.loc[df['sentiment'] == 'NEGATIVE'])\n",
    "numneutral = len(df.loc[df['sentiment'] == 'MIXED'])\n",
    "total = numpositive + numnegative + numneutral\n",
    "print(\"Recensioni totali: \"+str(total))\n",
    "print(\"Ci sono \"+str(numpositive)+\" recensioni con sentiment positivo - Percentuale: \"+str(numpositive/total)+\"%\")\n",
    "print(\"Ci sono \"+str(numnegative)+\" recensioni con sentiment negativo - Percentuale: \"+str(numnegative/total)+\"%\")\n",
    "print(\"Ci sono \"+str(numneutral)+\" recensioni con sentiment neutrale - Percentuale: \"+str(numneutral/total)+\"%\")"
   ]
  },
  {
   "cell_type": "code",
   "execution_count": 23,
   "id": "92a9b18e",
   "metadata": {},
   "outputs": [],
   "source": [
    "## SALVO FILE EXCEL (SENZA COLONNA INDEX)\n",
    "df.to_excel('result.xlsx',index=False)"
   ]
  }
 ],
 "metadata": {
  "kernelspec": {
   "display_name": "Python 3 (ipykernel)",
   "language": "python",
   "name": "python3"
  },
  "language_info": {
   "codemirror_mode": {
    "name": "ipython",
    "version": 3
   },
   "file_extension": ".py",
   "mimetype": "text/x-python",
   "name": "python",
   "nbconvert_exporter": "python",
   "pygments_lexer": "ipython3",
   "version": "3.11.1"
  }
 },
 "nbformat": 4,
 "nbformat_minor": 5
}
